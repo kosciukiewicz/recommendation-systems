{
 "cells": [
  {
   "cell_type": "code",
   "execution_count": 1,
   "metadata": {},
   "outputs": [],
   "source": [
    "import pandas as pd\n",
    "import numpy as np\n",
    "\n",
    "from settings import PATH_TO_DATA, CHECKPOINTS_DIRECTORY"
   ]
  },
  {
   "cell_type": "code",
   "execution_count": 2,
   "metadata": {},
   "outputs": [],
   "source": [
    "def get_movie_id_to_feature_mapping(movies_metadata_df):\n",
    "    mapping = {}\n",
    "    for i, row in movies_metadata_df.iterrows():\n",
    "        features = {\n",
    "            \"title\": row[\"title\"],\n",
    "            \"id\": row[\"id\"],\n",
    "        }\n",
    "\n",
    "        mapping[int(row['id'])] = features\n",
    "\n",
    "    return mapping"
   ]
  },
  {
   "cell_type": "code",
   "execution_count": 0,
   "metadata": {
    "collapsed": true,
    "pycharm": {
     "is_executing": false
    }
   },
   "outputs": [],
   "source": [
    "user_ratings_df = pd.read_csv(f\"{PATH_TO_DATA}/raw/the-movies-dataset/ratings_small.csv\")\n",
    "movies_metadata = pd.read_csv(f\"{PATH_TO_DATA}/raw/the-movies-dataset/movies_metadata_clean.csv\")\n",
    "movie_id_features_dict = get_movie_id_to_feature_mapping(movies_metadata)\n"
   ]
  }
 ],
 "metadata": {
  "kernelspec": {
   "display_name": "Python 3",
   "language": "python",
   "name": "python3"
  },
  "language_info": {
   "codemirror_mode": {
    "name": "ipython",
    "version": 3
   },
   "file_extension": ".py",
   "mimetype": "text/x-python",
   "name": "python",
   "nbconvert_exporter": "python",
   "pygments_lexer": "ipython3",
   "version": "3.7.6"
  }
 },
 "nbformat": 4,
 "nbformat_minor": 1
}
